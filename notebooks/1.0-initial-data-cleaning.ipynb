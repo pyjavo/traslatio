{
 "cells": [
  {
   "cell_type": "markdown",
   "id": "49955cee-ead9-4ab1-b7d8-49b728f1497e",
   "metadata": {},
   "source": [
    "## Perform the following transformations:\n",
    "\n",
    "- Add deltas to know how much time has passed for each news item\n",
    "    - Change the name of the “date” column to “created_date”\n",
    "    - Create a new column “current_date”\n",
    "    - Create a new column “delta_date” with the difference between current_date and created_date\n",
    "- Clean titles if apply:\n",
    "    - Remove line breaks\n",
    "    - Remove spaces\n"
   ]
  },
  {
   "cell_type": "code",
   "execution_count": 1,
   "id": "cc709077-917f-4d97-90b2-138616dc70d0",
   "metadata": {},
   "outputs": [],
   "source": [
    "import datetime\n",
    "\n",
    "import pandas as pd"
   ]
  },
  {
   "cell_type": "code",
   "execution_count": 2,
   "id": "4fb5e4cd-a6c6-4d9f-ad93-e0ddec38ed88",
   "metadata": {},
   "outputs": [],
   "source": [
    "df = pd.read_csv('../data/raw/data.csv')"
   ]
  },
  {
   "cell_type": "code",
   "execution_count": 3,
   "id": "2df1c56a-5938-474e-82ef-6954cf0f4085",
   "metadata": {},
   "outputs": [
    {
     "name": "stdout",
     "output_type": "stream",
     "text": [
      "<class 'pandas.core.frame.DataFrame'>\n",
      "RangeIndex: 909888 entries, 0 to 909887\n",
      "Data columns (total 6 columns):\n",
      " #   Column        Non-Null Count   Dtype \n",
      "---  ------        --------------   ----- \n",
      " 0   url           909888 non-null  object\n",
      " 1   title         909888 non-null  object\n",
      " 2   category      909888 non-null  object\n",
      " 3   created_date  909888 non-null  object\n",
      " 4   current_date  909888 non-null  object\n",
      " 5   view_count    909888 non-null  int64 \n",
      "dtypes: int64(1), object(5)\n",
      "memory usage: 41.7+ MB\n"
     ]
    }
   ],
   "source": [
    "df.info()"
   ]
  },
  {
   "cell_type": "code",
   "execution_count": 4,
   "id": "8b843a1e-de81-40d5-97ee-66ecfa21307e",
   "metadata": {},
   "outputs": [
    {
     "data": {
      "text/html": [
       "<div>\n",
       "<style scoped>\n",
       "    .dataframe tbody tr th:only-of-type {\n",
       "        vertical-align: middle;\n",
       "    }\n",
       "\n",
       "    .dataframe tbody tr th {\n",
       "        vertical-align: top;\n",
       "    }\n",
       "\n",
       "    .dataframe thead th {\n",
       "        text-align: right;\n",
       "    }\n",
       "</style>\n",
       "<table border=\"1\" class=\"dataframe\">\n",
       "  <thead>\n",
       "    <tr style=\"text-align: right;\">\n",
       "      <th></th>\n",
       "      <th>url</th>\n",
       "      <th>title</th>\n",
       "      <th>category</th>\n",
       "      <th>created_date</th>\n",
       "      <th>current_date</th>\n",
       "      <th>view_count</th>\n",
       "    </tr>\n",
       "  </thead>\n",
       "  <tbody>\n",
       "    <tr>\n",
       "      <th>0</th>\n",
       "      <td>https://www.biobiochile.cl/noticias/futbol-int...</td>\n",
       "      <td>La dura niñez de Shevchenko entre Chernobyl y ...</td>\n",
       "      <td>noticias/futbol-internacional/notas-futbol-int...</td>\n",
       "      <td>2021/05/03</td>\n",
       "      <td>2023-10-19</td>\n",
       "      <td>7076</td>\n",
       "    </tr>\n",
       "    <tr>\n",
       "      <th>1</th>\n",
       "      <td>https://www.biobiochile.cl/noticias/nacional/r...</td>\n",
       "      <td>Alcalde de Tucapel solicita acelerar obras de ...</td>\n",
       "      <td>noticias/nacional/region-del-bio-bio</td>\n",
       "      <td>2021/05/03</td>\n",
       "      <td>2023-10-19</td>\n",
       "      <td>898</td>\n",
       "    </tr>\n",
       "    <tr>\n",
       "      <th>2</th>\n",
       "      <td>https://www.biobiochile.cl/noticias/internacio...</td>\n",
       "      <td>Agencia Europea de Medicamento evalúa el uso d...</td>\n",
       "      <td>noticias/internacional/europa</td>\n",
       "      <td>2021/05/03</td>\n",
       "      <td>2023-10-19</td>\n",
       "      <td>488</td>\n",
       "    </tr>\n",
       "    <tr>\n",
       "      <th>3</th>\n",
       "      <td>https://www.biobiochile.cl/noticias/nacional/r...</td>\n",
       "      <td>TENS prestó $8,5 millones a su amor virtual pa...</td>\n",
       "      <td>noticias/nacional/region-metropolitana</td>\n",
       "      <td>2021/05/03</td>\n",
       "      <td>2023-10-19</td>\n",
       "      <td>23851</td>\n",
       "    </tr>\n",
       "    <tr>\n",
       "      <th>4</th>\n",
       "      <td>https://www.biobiochile.cl/noticias/nacional/r...</td>\n",
       "      <td>Dos incendios movilizaron a Bomberos en Los Án...</td>\n",
       "      <td>noticias/nacional/region-del-bio-bio</td>\n",
       "      <td>2021/05/03</td>\n",
       "      <td>2023-10-19</td>\n",
       "      <td>718</td>\n",
       "    </tr>\n",
       "  </tbody>\n",
       "</table>\n",
       "</div>"
      ],
      "text/plain": [
       "                                                 url  \\\n",
       "0  https://www.biobiochile.cl/noticias/futbol-int...   \n",
       "1  https://www.biobiochile.cl/noticias/nacional/r...   \n",
       "2  https://www.biobiochile.cl/noticias/internacio...   \n",
       "3  https://www.biobiochile.cl/noticias/nacional/r...   \n",
       "4  https://www.biobiochile.cl/noticias/nacional/r...   \n",
       "\n",
       "                                               title  \\\n",
       "0  La dura niñez de Shevchenko entre Chernobyl y ...   \n",
       "1  Alcalde de Tucapel solicita acelerar obras de ...   \n",
       "2  Agencia Europea de Medicamento evalúa el uso d...   \n",
       "3  TENS prestó $8,5 millones a su amor virtual pa...   \n",
       "4  Dos incendios movilizaron a Bomberos en Los Án...   \n",
       "\n",
       "                                            category created_date  \\\n",
       "0  noticias/futbol-internacional/notas-futbol-int...   2021/05/03   \n",
       "1               noticias/nacional/region-del-bio-bio   2021/05/03   \n",
       "2                      noticias/internacional/europa   2021/05/03   \n",
       "3             noticias/nacional/region-metropolitana   2021/05/03   \n",
       "4               noticias/nacional/region-del-bio-bio   2021/05/03   \n",
       "\n",
       "  current_date  view_count  \n",
       "0   2023-10-19        7076  \n",
       "1   2023-10-19         898  \n",
       "2   2023-10-19         488  \n",
       "3   2023-10-19       23851  \n",
       "4   2023-10-19         718  "
      ]
     },
     "execution_count": 4,
     "metadata": {},
     "output_type": "execute_result"
    }
   ],
   "source": [
    "df.head()"
   ]
  },
  {
   "cell_type": "code",
   "execution_count": 5,
   "id": "27db8fe1-778e-469e-b97f-730ee969e5f9",
   "metadata": {},
   "outputs": [
    {
     "data": {
      "text/plain": [
       "(909888, 6)"
      ]
     },
     "execution_count": 5,
     "metadata": {},
     "output_type": "execute_result"
    }
   ],
   "source": [
    "df.shape"
   ]
  },
  {
   "cell_type": "markdown",
   "id": "d29afd9c-83fe-4943-a9cf-b1edee22f1e7",
   "metadata": {},
   "source": [
    "## Getting deltas days from dates"
   ]
  },
  {
   "cell_type": "code",
   "execution_count": 6,
   "id": "b31d69a0-3b8b-434c-a93f-4b3ec90cc96c",
   "metadata": {},
   "outputs": [],
   "source": [
    "# https://pandas.pydata.org/pandas-docs/stable/reference/api/pandas.to_datetime.html\n",
    "df['created_date'] = pd.to_datetime(df['created_date'], format='%Y/%m/%d')\n",
    "df['current_date'] = pd.to_datetime(df['current_date'], format='%Y-%m-%d')"
   ]
  },
  {
   "cell_type": "code",
   "execution_count": 7,
   "id": "403469e3-da24-4ac9-8ab1-f22ea40a2dbf",
   "metadata": {},
   "outputs": [],
   "source": [
    "df['delta_date'] = df['current_date'] - df['created_date']"
   ]
  },
  {
   "cell_type": "code",
   "execution_count": 8,
   "id": "03b47758-521f-4e19-bce4-3ab4c1edcd85",
   "metadata": {},
   "outputs": [
    {
     "data": {
      "text/html": [
       "<div>\n",
       "<style scoped>\n",
       "    .dataframe tbody tr th:only-of-type {\n",
       "        vertical-align: middle;\n",
       "    }\n",
       "\n",
       "    .dataframe tbody tr th {\n",
       "        vertical-align: top;\n",
       "    }\n",
       "\n",
       "    .dataframe thead th {\n",
       "        text-align: right;\n",
       "    }\n",
       "</style>\n",
       "<table border=\"1\" class=\"dataframe\">\n",
       "  <thead>\n",
       "    <tr style=\"text-align: right;\">\n",
       "      <th></th>\n",
       "      <th>url</th>\n",
       "      <th>title</th>\n",
       "      <th>category</th>\n",
       "      <th>created_date</th>\n",
       "      <th>current_date</th>\n",
       "      <th>view_count</th>\n",
       "      <th>delta_date</th>\n",
       "    </tr>\n",
       "  </thead>\n",
       "  <tbody>\n",
       "    <tr>\n",
       "      <th>0</th>\n",
       "      <td>https://www.biobiochile.cl/noticias/futbol-int...</td>\n",
       "      <td>La dura niñez de Shevchenko entre Chernobyl y ...</td>\n",
       "      <td>noticias/futbol-internacional/notas-futbol-int...</td>\n",
       "      <td>2021-05-03</td>\n",
       "      <td>2023-10-19</td>\n",
       "      <td>7076</td>\n",
       "      <td>899 days</td>\n",
       "    </tr>\n",
       "    <tr>\n",
       "      <th>1</th>\n",
       "      <td>https://www.biobiochile.cl/noticias/nacional/r...</td>\n",
       "      <td>Alcalde de Tucapel solicita acelerar obras de ...</td>\n",
       "      <td>noticias/nacional/region-del-bio-bio</td>\n",
       "      <td>2021-05-03</td>\n",
       "      <td>2023-10-19</td>\n",
       "      <td>898</td>\n",
       "      <td>899 days</td>\n",
       "    </tr>\n",
       "    <tr>\n",
       "      <th>2</th>\n",
       "      <td>https://www.biobiochile.cl/noticias/internacio...</td>\n",
       "      <td>Agencia Europea de Medicamento evalúa el uso d...</td>\n",
       "      <td>noticias/internacional/europa</td>\n",
       "      <td>2021-05-03</td>\n",
       "      <td>2023-10-19</td>\n",
       "      <td>488</td>\n",
       "      <td>899 days</td>\n",
       "    </tr>\n",
       "    <tr>\n",
       "      <th>3</th>\n",
       "      <td>https://www.biobiochile.cl/noticias/nacional/r...</td>\n",
       "      <td>TENS prestó $8,5 millones a su amor virtual pa...</td>\n",
       "      <td>noticias/nacional/region-metropolitana</td>\n",
       "      <td>2021-05-03</td>\n",
       "      <td>2023-10-19</td>\n",
       "      <td>23851</td>\n",
       "      <td>899 days</td>\n",
       "    </tr>\n",
       "    <tr>\n",
       "      <th>4</th>\n",
       "      <td>https://www.biobiochile.cl/noticias/nacional/r...</td>\n",
       "      <td>Dos incendios movilizaron a Bomberos en Los Án...</td>\n",
       "      <td>noticias/nacional/region-del-bio-bio</td>\n",
       "      <td>2021-05-03</td>\n",
       "      <td>2023-10-19</td>\n",
       "      <td>718</td>\n",
       "      <td>899 days</td>\n",
       "    </tr>\n",
       "  </tbody>\n",
       "</table>\n",
       "</div>"
      ],
      "text/plain": [
       "                                                 url  \\\n",
       "0  https://www.biobiochile.cl/noticias/futbol-int...   \n",
       "1  https://www.biobiochile.cl/noticias/nacional/r...   \n",
       "2  https://www.biobiochile.cl/noticias/internacio...   \n",
       "3  https://www.biobiochile.cl/noticias/nacional/r...   \n",
       "4  https://www.biobiochile.cl/noticias/nacional/r...   \n",
       "\n",
       "                                               title  \\\n",
       "0  La dura niñez de Shevchenko entre Chernobyl y ...   \n",
       "1  Alcalde de Tucapel solicita acelerar obras de ...   \n",
       "2  Agencia Europea de Medicamento evalúa el uso d...   \n",
       "3  TENS prestó $8,5 millones a su amor virtual pa...   \n",
       "4  Dos incendios movilizaron a Bomberos en Los Án...   \n",
       "\n",
       "                                            category created_date  \\\n",
       "0  noticias/futbol-internacional/notas-futbol-int...   2021-05-03   \n",
       "1               noticias/nacional/region-del-bio-bio   2021-05-03   \n",
       "2                      noticias/internacional/europa   2021-05-03   \n",
       "3             noticias/nacional/region-metropolitana   2021-05-03   \n",
       "4               noticias/nacional/region-del-bio-bio   2021-05-03   \n",
       "\n",
       "  current_date  view_count delta_date  \n",
       "0   2023-10-19        7076   899 days  \n",
       "1   2023-10-19         898   899 days  \n",
       "2   2023-10-19         488   899 days  \n",
       "3   2023-10-19       23851   899 days  \n",
       "4   2023-10-19         718   899 days  "
      ]
     },
     "execution_count": 8,
     "metadata": {},
     "output_type": "execute_result"
    }
   ],
   "source": [
    "df.head()"
   ]
  },
  {
   "cell_type": "code",
   "execution_count": 9,
   "id": "51567ac7-edba-4e3e-9537-fe460a38b1d7",
   "metadata": {},
   "outputs": [
    {
     "name": "stdout",
     "output_type": "stream",
     "text": [
      "<class 'pandas.core.frame.DataFrame'>\n",
      "RangeIndex: 909888 entries, 0 to 909887\n",
      "Data columns (total 7 columns):\n",
      " #   Column        Non-Null Count   Dtype          \n",
      "---  ------        --------------   -----          \n",
      " 0   url           909888 non-null  object         \n",
      " 1   title         909888 non-null  object         \n",
      " 2   category      909888 non-null  object         \n",
      " 3   created_date  909888 non-null  datetime64[ns] \n",
      " 4   current_date  909888 non-null  datetime64[ns] \n",
      " 5   view_count    909888 non-null  int64          \n",
      " 6   delta_date    909888 non-null  timedelta64[ns]\n",
      "dtypes: datetime64[ns](2), int64(1), object(3), timedelta64[ns](1)\n",
      "memory usage: 48.6+ MB\n"
     ]
    }
   ],
   "source": [
    "df.info()"
   ]
  },
  {
   "cell_type": "markdown",
   "id": "5fa3ca08-8d61-4cd5-9de5-53e8f48c344c",
   "metadata": {},
   "source": [
    "## Cleaning categories"
   ]
  },
  {
   "cell_type": "code",
   "execution_count": 10,
   "id": "5e96693f-0ca4-46c9-9629-b92117df5eb7",
   "metadata": {},
   "outputs": [
    {
     "name": "stdout",
     "output_type": "stream",
     "text": [
      "noticias/futbol-internacional/notas-futbol-internacional\n",
      "['noticias', 'futbol-internacional', 'notas-futbol-internacional']\n",
      "notas-futbol-internacional\n",
      "['noticias']\n"
     ]
    }
   ],
   "source": [
    "cat = df['category'].iloc[0]\n",
    "print(cat)\n",
    "\n",
    "print(cat.split('/'))\n",
    "print(cat.split('/')[-1])\n",
    "print('noticias'.split('/'))"
   ]
  },
  {
   "cell_type": "code",
   "execution_count": 11,
   "id": "f6fc5bc4-85cc-48b4-95e7-dd2d54da2f5b",
   "metadata": {},
   "outputs": [],
   "source": [
    "df['category'] = df['category'].map(lambda element: element.split('/')[-1])"
   ]
  },
  {
   "cell_type": "code",
   "execution_count": 12,
   "id": "bab82aa1-8d8a-46af-a920-ceae848e4270",
   "metadata": {},
   "outputs": [
    {
     "data": {
      "text/html": [
       "<div>\n",
       "<style scoped>\n",
       "    .dataframe tbody tr th:only-of-type {\n",
       "        vertical-align: middle;\n",
       "    }\n",
       "\n",
       "    .dataframe tbody tr th {\n",
       "        vertical-align: top;\n",
       "    }\n",
       "\n",
       "    .dataframe thead th {\n",
       "        text-align: right;\n",
       "    }\n",
       "</style>\n",
       "<table border=\"1\" class=\"dataframe\">\n",
       "  <thead>\n",
       "    <tr style=\"text-align: right;\">\n",
       "      <th></th>\n",
       "      <th>url</th>\n",
       "      <th>title</th>\n",
       "      <th>category</th>\n",
       "      <th>created_date</th>\n",
       "      <th>current_date</th>\n",
       "      <th>view_count</th>\n",
       "      <th>delta_date</th>\n",
       "    </tr>\n",
       "  </thead>\n",
       "  <tbody>\n",
       "    <tr>\n",
       "      <th>0</th>\n",
       "      <td>https://www.biobiochile.cl/noticias/futbol-int...</td>\n",
       "      <td>La dura niñez de Shevchenko entre Chernobyl y ...</td>\n",
       "      <td>notas-futbol-internacional</td>\n",
       "      <td>2021-05-03</td>\n",
       "      <td>2023-10-19</td>\n",
       "      <td>7076</td>\n",
       "      <td>899 days</td>\n",
       "    </tr>\n",
       "    <tr>\n",
       "      <th>1</th>\n",
       "      <td>https://www.biobiochile.cl/noticias/nacional/r...</td>\n",
       "      <td>Alcalde de Tucapel solicita acelerar obras de ...</td>\n",
       "      <td>region-del-bio-bio</td>\n",
       "      <td>2021-05-03</td>\n",
       "      <td>2023-10-19</td>\n",
       "      <td>898</td>\n",
       "      <td>899 days</td>\n",
       "    </tr>\n",
       "    <tr>\n",
       "      <th>2</th>\n",
       "      <td>https://www.biobiochile.cl/noticias/internacio...</td>\n",
       "      <td>Agencia Europea de Medicamento evalúa el uso d...</td>\n",
       "      <td>europa</td>\n",
       "      <td>2021-05-03</td>\n",
       "      <td>2023-10-19</td>\n",
       "      <td>488</td>\n",
       "      <td>899 days</td>\n",
       "    </tr>\n",
       "    <tr>\n",
       "      <th>3</th>\n",
       "      <td>https://www.biobiochile.cl/noticias/nacional/r...</td>\n",
       "      <td>TENS prestó $8,5 millones a su amor virtual pa...</td>\n",
       "      <td>region-metropolitana</td>\n",
       "      <td>2021-05-03</td>\n",
       "      <td>2023-10-19</td>\n",
       "      <td>23851</td>\n",
       "      <td>899 days</td>\n",
       "    </tr>\n",
       "    <tr>\n",
       "      <th>4</th>\n",
       "      <td>https://www.biobiochile.cl/noticias/nacional/r...</td>\n",
       "      <td>Dos incendios movilizaron a Bomberos en Los Án...</td>\n",
       "      <td>region-del-bio-bio</td>\n",
       "      <td>2021-05-03</td>\n",
       "      <td>2023-10-19</td>\n",
       "      <td>718</td>\n",
       "      <td>899 days</td>\n",
       "    </tr>\n",
       "    <tr>\n",
       "      <th>5</th>\n",
       "      <td>https://www.biobiochile.cl/noticias/nacional/r...</td>\n",
       "      <td>Detienen a 21 personas por fiesta clandestina ...</td>\n",
       "      <td>region-de-coquimbo</td>\n",
       "      <td>2021-05-03</td>\n",
       "      <td>2023-10-19</td>\n",
       "      <td>580</td>\n",
       "      <td>899 days</td>\n",
       "    </tr>\n",
       "    <tr>\n",
       "      <th>6</th>\n",
       "      <td>https://www.biobiochile.cl/noticias/nacional/r...</td>\n",
       "      <td>Los Ángeles: 19 detenidos por asistir a asado ...</td>\n",
       "      <td>region-del-bio-bio</td>\n",
       "      <td>2021-05-01</td>\n",
       "      <td>2023-10-19</td>\n",
       "      <td>3196</td>\n",
       "      <td>901 days</td>\n",
       "    </tr>\n",
       "    <tr>\n",
       "      <th>7</th>\n",
       "      <td>https://www.biobiochile.cl/especial/aqui-tierr...</td>\n",
       "      <td>Cumbre del clima ¿qué hay detrás de los compro...</td>\n",
       "      <td>noticias</td>\n",
       "      <td>2021-05-01</td>\n",
       "      <td>2023-10-19</td>\n",
       "      <td>127230</td>\n",
       "      <td>901 days</td>\n",
       "    </tr>\n",
       "    <tr>\n",
       "      <th>8</th>\n",
       "      <td>https://www.biobiochile.cl/noticias/opinion/en...</td>\n",
       "      <td>Ossandón apunta a Lavín: \"A lo mejor ahora es ...</td>\n",
       "      <td>entrevistas</td>\n",
       "      <td>2021-05-01</td>\n",
       "      <td>2023-10-19</td>\n",
       "      <td>63294</td>\n",
       "      <td>901 days</td>\n",
       "    </tr>\n",
       "    <tr>\n",
       "      <th>9</th>\n",
       "      <td>https://www.biobiochile.cl/noticias/espectacul...</td>\n",
       "      <td>Cathy Barriga presenta acción judicial para qu...</td>\n",
       "      <td>notas-espectaculos-tv</td>\n",
       "      <td>2021-05-01</td>\n",
       "      <td>2023-10-19</td>\n",
       "      <td>28282</td>\n",
       "      <td>901 days</td>\n",
       "    </tr>\n",
       "  </tbody>\n",
       "</table>\n",
       "</div>"
      ],
      "text/plain": [
       "                                                 url  \\\n",
       "0  https://www.biobiochile.cl/noticias/futbol-int...   \n",
       "1  https://www.biobiochile.cl/noticias/nacional/r...   \n",
       "2  https://www.biobiochile.cl/noticias/internacio...   \n",
       "3  https://www.biobiochile.cl/noticias/nacional/r...   \n",
       "4  https://www.biobiochile.cl/noticias/nacional/r...   \n",
       "5  https://www.biobiochile.cl/noticias/nacional/r...   \n",
       "6  https://www.biobiochile.cl/noticias/nacional/r...   \n",
       "7  https://www.biobiochile.cl/especial/aqui-tierr...   \n",
       "8  https://www.biobiochile.cl/noticias/opinion/en...   \n",
       "9  https://www.biobiochile.cl/noticias/espectacul...   \n",
       "\n",
       "                                               title  \\\n",
       "0  La dura niñez de Shevchenko entre Chernobyl y ...   \n",
       "1  Alcalde de Tucapel solicita acelerar obras de ...   \n",
       "2  Agencia Europea de Medicamento evalúa el uso d...   \n",
       "3  TENS prestó $8,5 millones a su amor virtual pa...   \n",
       "4  Dos incendios movilizaron a Bomberos en Los Án...   \n",
       "5  Detienen a 21 personas por fiesta clandestina ...   \n",
       "6  Los Ángeles: 19 detenidos por asistir a asado ...   \n",
       "7  Cumbre del clima ¿qué hay detrás de los compro...   \n",
       "8  Ossandón apunta a Lavín: \"A lo mejor ahora es ...   \n",
       "9  Cathy Barriga presenta acción judicial para qu...   \n",
       "\n",
       "                     category created_date current_date  view_count delta_date  \n",
       "0  notas-futbol-internacional   2021-05-03   2023-10-19        7076   899 days  \n",
       "1          region-del-bio-bio   2021-05-03   2023-10-19         898   899 days  \n",
       "2                      europa   2021-05-03   2023-10-19         488   899 days  \n",
       "3        region-metropolitana   2021-05-03   2023-10-19       23851   899 days  \n",
       "4          region-del-bio-bio   2021-05-03   2023-10-19         718   899 days  \n",
       "5          region-de-coquimbo   2021-05-03   2023-10-19         580   899 days  \n",
       "6          region-del-bio-bio   2021-05-01   2023-10-19        3196   901 days  \n",
       "7                    noticias   2021-05-01   2023-10-19      127230   901 days  \n",
       "8                 entrevistas   2021-05-01   2023-10-19       63294   901 days  \n",
       "9       notas-espectaculos-tv   2021-05-01   2023-10-19       28282   901 days  "
      ]
     },
     "execution_count": 12,
     "metadata": {},
     "output_type": "execute_result"
    }
   ],
   "source": [
    "df.head(n=10)"
   ]
  },
  {
   "cell_type": "code",
   "execution_count": 13,
   "id": "15a48f71-046d-4257-8302-39de73d093a2",
   "metadata": {},
   "outputs": [
    {
     "name": "stdout",
     "output_type": "stream",
     "text": [
      "- Finished!\n"
     ]
    }
   ],
   "source": [
    "df.to_csv('../data/interim/clean_data_01.csv', index=False)\n",
    "\n",
    "print('- Finished!')"
   ]
  }
 ],
 "metadata": {
  "kernelspec": {
   "display_name": "Python 3 (ipykernel)",
   "language": "python",
   "name": "python3"
  },
  "language_info": {
   "codemirror_mode": {
    "name": "ipython",
    "version": 3
   },
   "file_extension": ".py",
   "mimetype": "text/x-python",
   "name": "python",
   "nbconvert_exporter": "python",
   "pygments_lexer": "ipython3",
   "version": "3.11.4"
  }
 },
 "nbformat": 4,
 "nbformat_minor": 5
}
